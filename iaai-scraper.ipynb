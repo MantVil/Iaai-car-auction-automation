{
 "cells": [
  {
   "cell_type": "code",
   "execution_count": 16,
   "metadata": {},
   "outputs": [],
   "source": [
    "from selenium import webdriver\n",
    "from selenium_stealth import stealth\n",
    "import undetected_chromedriver as uc\n",
    "import ssl\n",
    "\n",
    "ssl._create_default_https_context = ssl._create_unverified_context\n",
    "\n",
    "options = uc.ChromeOptions()\n",
    "options.add_argument('--disable-gpu')\n",
    "options.add_argument('--disable-dev-shm-usage')\n",
    "options.add_argument('--no-sandbox')\n",
    "options.add_argument('--incognito')\n",
    "options.add_argument('--disable-blink-features=AutomationControlled')\n",
    "options.add_argument('--disable-infobars')\n",
    "options.add_argument('--disable-extensions')\n",
    "options.add_argument('--disable-default-apps')\n",
    "options.add_argument('--disable-popup-blocking')\n",
    "options.add_argument('--start-maximized')\n",
    "options.add_argument('--user-agent=Mozilla/5.0 (Windows NT 10.0; Win64; x64) AppleWebKit/537.36 (KHTML, like Gecko) Chrome/112.0.5615.137 Safari/537.3')\n",
    "\n",
    "\n",
    "driver = uc.Chrome(options=options)\n",
    "stealth(driver, languages=[\"en-US\", \"en\"], vendor=\"Google Inc.\", platform=\"Win32\", webgl_vendor=\"Intel Inc.\", renderer=\"Intel Iris OpenGL Engine\")\n",
    "driver.get('https://www.iaai.com')\n"
   ]
  }
 ],
 "metadata": {
  "kernelspec": {
   "display_name": "Python 3.11.0 ('myenv': venv)",
   "language": "python",
   "name": "python3"
  },
  "language_info": {
   "codemirror_mode": {
    "name": "ipython",
    "version": 3
   },
   "file_extension": ".py",
   "mimetype": "text/x-python",
   "name": "python",
   "nbconvert_exporter": "python",
   "pygments_lexer": "ipython3",
   "version": "3.11.0"
  },
  "orig_nbformat": 4,
  "vscode": {
   "interpreter": {
    "hash": "a9a17b976906bbe8ca74e8c1d4583ba7a769de796e88839ea49fe9c6dc35d11a"
   }
  }
 },
 "nbformat": 4,
 "nbformat_minor": 2
}
